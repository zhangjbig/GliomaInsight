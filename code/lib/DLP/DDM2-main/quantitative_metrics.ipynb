{
 "cells": [
  {
   "cell_type": "code",
   "execution_count": 1,
   "metadata": {},
   "outputs": [
    {
     "name": "stderr",
     "output_type": "stream",
     "text": [
      "/Users/xiangtiange/opt/miniconda3/envs/chris/lib/python3.6/site-packages/dicom/__init__.py:53: UserWarning: \n",
      "This code is using an older version of pydicom, which is no longer \n",
      "maintained as of Jan 2017.  You can access the new pydicom features and API \n",
      "by installing `pydicom` from PyPI.\n",
      "See 'Transitioning to pydicom 1.x' section at pydicom.readthedocs.org \n",
      "for more information.\n",
      "\n",
      "  warnings.warn(msg)\n"
     ]
    }
   ],
   "source": [
    "import numpy as np\n",
    "from dipy.core.gradients import gradient_table\n",
    "from dipy.data import get_fnames\n",
    "from dipy.io.gradients import read_bvals_bvecs\n",
    "from dipy.io.image import load_nifti, save_nifti\n",
    "from dipy.segment.mask import median_otsu\n",
    "from dipy.reconst.dti import TensorModel\n",
    "\n",
    "from matplotlib import pyplot as plt\n",
    "import os"
   ]
  },
  {
   "cell_type": "code",
   "execution_count": 4,
   "metadata": {},
   "outputs": [],
   "source": [
    "root = '...' # **YOUR ROOT OF DENOISED DATA**\n",
    "denoised_data = {}\n",
    "\n",
    "hardi_fname, hardi_bval_fname, hardi_bvec_fname = get_fnames('stanford_hardi')\n",
    "data, affine = load_nifti(hardi_fname)\n",
    "raw_max =  np.max(data, axis=(0,1,2), keepdims=True)\n",
    "bvals, bvecs = read_bvals_bvecs(hardi_bval_fname, hardi_bvec_fname)\n",
    "\n",
    "# non b0 mask\n",
    "sel_b = bvals != 0\n",
    "b0_size = 10\n",
    "\n",
    "# create a new gradient table on non b0 directions\n",
    "gtab = gradient_table(bvals[sel_b], bvecs[sel_b])\n",
    "raw_gtab = gradient_table(bvals, bvecs)\n",
    "\n",
    "# PLEASE DOUBLE CHECK THE PATH BELOW\n",
    "# THE DENOISED DATA MUST CONTAIN B0 DIRETCIONS!!\n",
    "denoised_data['n2s'], _ = load_nifti(root + 'n2s_denoised.nii.gz')\n",
    "denoised_data['n2n'], _ = load_nifti(root + 'n2n_denoised.nii.gz')\n",
    "denoised_data['dip'], _ = load_nifti(root + 'dip_denoised.nii.gz')\n",
    "denoised_data['p2s'], _ = load_nifti(root + 'p2s_denoised.nii.gz')\n",
    "denoised_data['our'], _ = load_nifti(root + 'ours_denoised.nii.gz')\n",
    "\n",
    "# normalize denoised data\n",
    "for k in denoised_data.keys():\n",
    "    denoised_data[k] -= np.min(denoised_data[k], axis=(0,1), keepdims=True)\n",
    "    denoised_data[k] /= np.max(denoised_data[k], axis=(0,1), keepdims=True)\n",
    "    denoised_data[k] = np.concatenate((data[:,:,:,:b0_size], denoised_data[k]), axis=-1)\n",
    "\n",
    "print('Data loading done!')\n"
   ]
  },
  {
   "cell_type": "code",
   "execution_count": 5,
   "metadata": {},
   "outputs": [
    {
     "name": "stdout",
     "output_type": "stream",
     "text": [
      "Computing brain mask...\n",
      "Computing tensors...\n"
     ]
    }
   ],
   "source": [
    "print('Computing brain mask...')\n",
    "b0_mask, mask = median_otsu(data, vol_idx=[0])\n",
    "\n",
    "print('Computing tensors...')\n",
    "tenmodel = TensorModel(raw_gtab)\n",
    "tensorfit = tenmodel.fit(data, mask=mask)"
   ]
  },
  {
   "cell_type": "code",
   "execution_count": 6,
   "metadata": {},
   "outputs": [
    {
     "name": "stdout",
     "output_type": "stream",
     "text": [
      "Computing worst-case/best-case SNR using the corpus callosum...\n",
      "(81, 106, 76)\n"
     ]
    },
    {
     "data": {
      "text/plain": [
       "<matplotlib.image.AxesImage at 0x7fe0b17530b8>"
      ]
     },
     "execution_count": 6,
     "metadata": {},
     "output_type": "execute_result"
    },
    {
     "data": {
      "image/png": "[encoded data removed]",
      "text/plain": [
       "<Figure size 432x288 with 5 Axes>"
      ]
     },
     "metadata": {
      "needs_background": "light"
     },
     "output_type": "display_data"
    }
   ],
   "source": [
    "print('Computing worst-case/best-case SNR using the corpus callosum...')\n",
    "from dipy.segment.mask import segment_from_cfa\n",
    "from dipy.segment.mask import bounding_box\n",
    "\n",
    "threshold = (0.6, 1, 0, 0.1, 0, 0.1)\n",
    "\n",
    "CC_box = np.zeros_like(data[..., 0])\n",
    "\n",
    "mins, maxs = bounding_box(mask)\n",
    "mins = np.array(mins)\n",
    "maxs = np.array(maxs)\n",
    "diff = (maxs - mins) // 4\n",
    "bounds_min = mins + diff\n",
    "bounds_max = maxs - diff\n",
    "\n",
    "CC_box[bounds_min[0]:bounds_max[0],\n",
    "       bounds_min[1]:bounds_max[1],\n",
    "       bounds_min[2]:bounds_max[2]] = 1\n",
    "\n",
    "mask_cc_part, cfa = segment_from_cfa(tensorfit, CC_box, threshold,\n",
    "                                     return_cfa=True)\n",
    "\n",
    "\n",
    "import matplotlib.pyplot as plt\n",
    "\n",
    "region = 40\n",
    "\n",
    "# visualize the masks and ROI\n",
    "fig = plt.figure('Corpus callosum segmentation')\n",
    "plt.subplot(1, 5, 1)\n",
    "plt.title(\"CC\")\n",
    "plt.axis('off')\n",
    "red = cfa[..., 0]\n",
    "plt.imshow(np.rot90(red[...,region]))\n",
    "\n",
    "plt.subplot(1, 5, 2)\n",
    "plt.title(\"CC mask\")\n",
    "plt.axis('off')\n",
    "plt.imshow(np.rot90(mask_cc_part[...,region]), cmap='gray')\n",
    "\n",
    "from scipy.ndimage.morphology import binary_dilation\n",
    "mask_noise = binary_dilation(mask, iterations=10)\n",
    "\n",
    "mask_noise = ~mask_noise\n",
    "print(mask_noise.shape)\n",
    "\n",
    "plt.subplot(1, 5, 3)\n",
    "plt.title(\"noise mask\")\n",
    "plt.axis('off')\n",
    "plt.imshow(mask_noise[:,:,40], cmap='gray')\n",
    "\n",
    "plt.subplot(1, 5, 4)\n",
    "plt.title(\"mask\")\n",
    "plt.axis('off')\n",
    "plt.imshow(mask[:,:,40], cmap='gray')\n",
    "\n",
    "\n",
    "plt.subplot(1, 5, 5)\n",
    "plt.title(\"data\")\n",
    "plt.axis('off')\n",
    "plt.imshow(data[:,:,40,40], cmap='gray')"
   ]
  },
  {
   "cell_type": "code",
   "execution_count": 7,
   "metadata": {},
   "outputs": [],
   "source": [
    "# normalize raw data for metric computation\n",
    "data_normalized = data - np.min(data, axis=(0,1), keepdims=True)\n",
    "data_normalized = (data_normalized.astype(np.float32) / np.max(data_normalized, axis=(0,1), keepdims=True))"
   ]
  },
  {
   "cell_type": "code",
   "execution_count": 8,
   "metadata": {},
   "outputs": [],
   "source": [
    "mean_signal = np.mean(data_normalized[mask_cc_part], axis=0)\n",
    "noise_std = np.std(data_normalized[mask_noise, :], axis=0)\n",
    "mean_bg = np.mean(data_normalized[mask_noise, :], axis=0)\n",
    "\n",
    "mean_signal_denoised = {}\n",
    "denoised_noise_std = {}\n",
    "denoised_mean_bg = {}\n",
    "\n",
    "# normalize denoised data for metric calculation\n",
    "for k, v in denoised_data.items():\n",
    "    mean_signal_denoised[k] = np.mean(v[mask_cc_part], axis=0)\n",
    "    denoised_noise_std[k] = np.std(v[mask_noise, :], axis=0)\n",
    "    denoised_mean_bg[k] = np.mean(v[mask_noise, :], axis=0)"
   ]
  },
  {
   "cell_type": "code",
   "execution_count": 9,
   "metadata": {},
   "outputs": [
    {
     "name": "stdout",
     "output_type": "stream",
     "text": [
      "raw [SNR] mean: 5.1141 std: 2.4988\n",
      "raw [CNR] mean: 4.6567 std: 2.4976\n",
      "=================\n",
      "n2s [SNR delta] mean: -0.5301 std: 0.7778 best: 0.5438 worst: -2.9176\n",
      "n2s [CNR delta] mean: -0.5535 std: 0.7710 best: 0.5077 worst: -2.9232\n",
      "=================\n",
      "n2n [SNR delta] mean: 0.8060 std: 2.0059 best: 4.0267 worst: -3.2664\n",
      "n2n [CNR delta] mean: 0.7942 std: 2.0026 best: 4.0074 worst: -3.2668\n",
      "=================\n",
      "dip [SNR delta] mean: -3.0587 std: 1.6048 best: -0.2501 worst: -6.3830\n",
      "dip [CNR delta] mean: -3.0380 std: 1.6036 best: -0.2839 worst: -6.3900\n",
      "=================\n",
      "p2s [SNR delta] mean: 0.1042 std: 0.3641 best: 0.8540 worst: -0.8332\n",
      "p2s [CNR delta] mean: 0.0748 std: 0.3623 best: 0.8237 worst: -0.8545\n",
      "=================\n",
      "our [SNR delta] mean: 1.8284 std: 1.6969 best: 4.9025 worst: -1.7451\n",
      "our [CNR delta] mean: 1.7486 std: 1.6949 best: 4.8205 worst: -1.8113\n"
     ]
    }
   ],
   "source": [
    "# metric calculation starts here\n",
    "\n",
    "SNRs = {}\n",
    "CNRs = {}\n",
    "\n",
    "SNR = mean_signal / noise_std\n",
    "CNR = (mean_signal - mean_bg) / noise_std\n",
    "\n",
    "SNR = SNR[sel_b]\n",
    "CNR = CNR[sel_b]\n",
    "\n",
    "SNRs['raw'] = SNR\n",
    "CNRs['raw'] = CNR\n",
    "\n",
    "print('raw', '[SNR] mean: %.4f std: %.4f' % (np.mean(SNR), np.std(SNR)))\n",
    "print('raw', '[CNR] mean: %.4f std: %.4f' % (np.mean(CNR), np.std(CNR)))\n",
    "\n",
    "for k in denoised_data.keys():\n",
    "    SNR = mean_signal_denoised[k] / (denoised_noise_std[k]+1e-7)\n",
    "    CNR = (mean_signal_denoised[k] - denoised_mean_bg[k]) / (denoised_noise_std[k]+1e-7)\n",
    "\n",
    "    SNR = SNR[sel_b]\n",
    "    CNR = CNR[sel_b]\n",
    "    SNR -= SNRs['raw']\n",
    "    CNR -= CNRs['raw']\n",
    "    SNRs[k] = SNR\n",
    "    CNRs[k] = CNR\n",
    "    print(\"=================\")\n",
    "    print(k, '[SNR delta] mean: %.4f std: %.4f best: %.4f worst: %.4f' % (np.mean(SNR), np.std(SNR), np.max(SNR), np.min(SNR)))\n",
    "    print(k, '[CNR delta] mean: %.4f std: %.4f best: %.4f worst: %.4f' % (np.mean(CNR), np.std(CNR), np.max(CNR), np.min(CNR)))"
   ]
  },
  {
   "cell_type": "code",
   "execution_count": 10,
   "metadata": {},
   "outputs": [
    {
     "data": {
      "image/png": "[encoded data removed]",
      "text/plain": [
       "<Figure size 1008x360 with 1 Axes>"
      ]
     },
     "metadata": {},
     "output_type": "display_data"
    }
   ],
   "source": [
    "%matplotlib inline\n",
    "import scipy.stats as stats\n",
    "import pandas as pd\n",
    "\n",
    "df_diff = pd.DataFrame({'SNR DIP':SNRs['dip'],\n",
    "                        'SNR N2N':SNRs['n2n'],\n",
    "                        'SNR P2S':SNRs['p2s'],\n",
    "                        'SNR N2S':SNRs['n2s'],\n",
    "                        'SNR Ours': SNRs['our'],\n",
    "                        'CNR DIP':CNRs['dip'],\n",
    "                        'CNR N2N':CNRs['n2n'],\n",
    "                        'CNR P2S':CNRs['p2s'],\n",
    "                        'CNR N2S':CNRs['n2s'],\n",
    "                        'CNR Ours': CNRs['our']})\n",
    "\n",
    "import seaborn as sns\n",
    "sns.set(rc={'figure.figsize':(14,5)})\n",
    "sns.set(style=\"whitegrid\")\n",
    "set2 = sns.color_palette('Set2')\n",
    "my_pal = {\"SNR DIP\": set2[-1], \"SNR N2N\": set2[0], \"SNR P2S\": set2[2], \"SNR N2S\": set2[3], \"SNR Ours\": set2[1],\n",
    "          \"CNR DIP\": set2[-1], \"CNR N2N\": set2[0], \"CNR P2S\": set2[2], \"CNR N2S\": set2[3], \"CNR Ours\": set2[1]}\n",
    "\n",
    "ax = sns.boxplot( x=\"variable\", y=\"value\", data=pd.melt(df_diff), fliersize=0, sym='', palette=my_pal)\n",
    "\n",
    "# plt.savefig('quantitative.svg', dpi=500, bbox_inches='tight')\n",
    "plt.show()"
   ]
  }
 ],
 "metadata": {
  "interpreter": {
   "hash": "754147cbc932618733e4b5b22f4733dc08362733592b3e8aa661889d22935194"
  },
  "kernelspec": {
   "display_name": "Python 3.8.12 64-bit ('tsne': conda)",
   "language": "python",
   "name": "python3"
  },
  "language_info": {
   "codemirror_mode": {
    "name": "ipython",
    "version": 3
   },
   "file_extension": ".py",
   "mimetype": "text/x-python",
   "name": "python",
   "nbconvert_exporter": "python",
   "pygments_lexer": "ipython3",
   "version": "3.6.10"
  },
  "orig_nbformat": 2
 },
 "nbformat": 4,
 "nbformat_minor": 2
}
